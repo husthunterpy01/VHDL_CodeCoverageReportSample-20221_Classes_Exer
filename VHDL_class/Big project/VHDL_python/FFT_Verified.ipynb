{
 "cells": [
  {
   "cell_type": "code",
   "execution_count": 23,
   "id": "51546983",
   "metadata": {},
   "outputs": [],
   "source": [
    "import numpy as np"
   ]
  },
  {
   "cell_type": "code",
   "execution_count": 24,
   "id": "f04dc9f3",
   "metadata": {},
   "outputs": [],
   "source": [
    "# create empty lists for decimalr_num and decimali_num\n",
    "decimalr_nums = []\n",
    "decimali_nums = []"
   ]
  },
  {
   "cell_type": "code",
   "execution_count": 25,
   "id": "bc14bb74",
   "metadata": {},
   "outputs": [],
   "source": [
    "# open the .txt file for reading\n",
    "with open('F:\\VHDL\\ET5080E - 20221\\Big project\\pipelined_fft_128-master_ref\\work\\input_r.txt', 'r') as f:\n",
    "    # read the file line by line\n",
    "    for line in f:\n",
    "        # strip the line of any whitespace\n",
    "        line = line.strip()\n",
    "        # convert the binary string to an integer\n",
    "        binary_num = int(line, 2)\n",
    "        # use the struct module to convert the binary number to a signed decimal\n",
    "        decimalr_num = struct.unpack('h', struct.pack('H', binary_num))[0]\n",
    "        # append the decimal number to the decimalr_nums list\n",
    "        decimalr_nums.append(decimalr_num)"
   ]
  },
  {
   "cell_type": "code",
   "execution_count": 26,
   "id": "3966acb7",
   "metadata": {},
   "outputs": [],
   "source": [
    "# open the .txt file for reading\n",
    "with open('F:\\VHDL\\ET5080E - 20221\\Big project\\pipelined_fft_128-master_ref\\work\\input_i.txt', 'r') as f:\n",
    "    # read the file line by line\n",
    "    for line in f:\n",
    "        # strip the line of any whitespace\n",
    "        line = line.strip()\n",
    "        # convert the binary string to an integer\n",
    "        binary_num = int(line, 2)\n",
    "        # use the struct module to convert the binary number to a signed decimal\n",
    "        decimali_num = struct.unpack('h', struct.pack('H', binary_num))[0]\n",
    "        # append the decimal number to the decimali_nums list\n",
    "        decimali_nums.append(decimali_num)"
   ]
  },
  {
   "cell_type": "code",
   "execution_count": 27,
   "id": "b19af9e4",
   "metadata": {},
   "outputs": [
    {
     "name": "stdout",
     "output_type": "stream",
     "text": [
      "[(32767+0j), (32727+1607j), (32609+3211j), (32412+4807j), (32137+6392j), (31785+7961j), (31356+9511j), (30851+11038j), (30272+12539j), (29621+14009j), (28897+15446j), (28105+16845j), (27244+18204j), (26318+19519j), (25329+20787j), (24278+22004j), (23169+23169j), (22004+24278j), (20787+25329j), (19519+26318j), (18204+27244j), (16845+28105j), (15446+28897j), (14009+29621j), (12539+30272j), (11038+30851j), (9511+31356j), (7961+31785j), (6392+32137j), (4807+32412j), (3211+32609j), (1607+32727j), 32767j, (-1607+32727j), (-3211+32609j), (-4807+32412j), (-6392+32137j), (-7961+31785j), (-9511+31356j), (-11038+30851j), (-12539+30272j), (-14009+29621j), (-15446+28897j), (-16845+28105j), (-18204+27244j), (-19519+26318j), (-20787+25329j), (-22004+24278j), (-23169+23169j), (-24278+22004j), (-25329+20787j), (-26318+19519j), (-27244+18204j), (-28105+16845j), (-28897+15446j), (-29621+14009j), (-30272+12539j), (-30851+11038j), (-31356+9511j), (-31785+7961j), (-32137+6392j), (-32412+4807j), (-32609+3211j), (-32727+1607j), (-32767+0j), (-32727-1607j), (-32609-3211j), (-32412-4807j), (-32137-6392j), (-31785-7961j), (-31356-9511j), (-30851-11038j), (-30272-12539j), (-29621-14009j), (-28897-15446j), (-28105-16845j), (-27244-18204j), (-26318-19519j), (-25329-20787j), (-24278-22004j), (-23169-23169j), (-22004-24278j), (-20787-25329j), (-19519-26318j), (-18204-27244j), (-16845-28105j), (-15446-28897j), (-14009-29621j), (-12539-30272j), (-11038-30851j), (-9511-31356j), (-7961-31785j), (-6392-32137j), (-4807-32412j), (-3211-32609j), (-1607-32727j), -32767j, (1607-32727j), (3211-32609j), (4807-32412j), (6392-32137j), (7961-31785j), (9511-31356j), (11038-30851j), (12539-30272j), (14009-29621j), (15446-28897j), (16845-28105j), (18204-27244j), (19519-26318j), (20787-25329j), (22004-24278j), (23169-23169j), (24278-22004j), (25329-20787j), (26318-19519j), (27244-18204j), (28105-16845j), (28897-15446j), (29621-14009j), (30272-12539j), (30851-11038j), (31356-9511j), (31785-7961j), (32137-6392j), (32412-4807j), (32609-3211j), (32727-1607j)]\n"
     ]
    }
   ],
   "source": [
    "# use the zip function to iterate over the two lists and create a new list of complex numbers\n",
    "complex_numbers = [complex(decimalr_num, decimali_num) for decimalr_num, decimali_num in zip(decimalr_nums, decimali_nums)]\n",
    "print(complex_numbers)"
   ]
  },
  {
   "cell_type": "code",
   "execution_count": 28,
   "id": "3479adfb",
   "metadata": {},
   "outputs": [
    {
     "name": "stdout",
     "output_type": "stream",
     "text": [
      "[ 0.00000000e+00+0.j  4.19410159e+06+0.j  0.00000000e+00+0.j\n",
      "  0.00000000e+00+0.j  0.00000000e+00+0.j -1.45083060e+01+0.j\n",
      "  0.00000000e+00+0.j  0.00000000e+00+0.j  0.00000000e+00+0.j\n",
      " -2.55012220e+01+0.j  0.00000000e+00+0.j  0.00000000e+00+0.j\n",
      "  0.00000000e+00+0.j -6.38406546e+00+0.j  0.00000000e+00+0.j\n",
      "  0.00000000e+00+0.j  0.00000000e+00+0.j -1.23952786e+01+0.j\n",
      "  0.00000000e+00+0.j  0.00000000e+00+0.j  0.00000000e+00+0.j\n",
      " -1.63420931e+00+0.j  0.00000000e+00+0.j  0.00000000e+00+0.j\n",
      "  0.00000000e+00+0.j -3.88088768e+00+0.j  0.00000000e+00+0.j\n",
      "  0.00000000e+00+0.j  0.00000000e+00+0.j  3.67669756e-01+0.j\n",
      "  0.00000000e+00+0.j  0.00000000e+00+0.j  0.00000000e+00+0.j\n",
      " -5.82786756e+00+0.j  0.00000000e+00+0.j  0.00000000e+00+0.j\n",
      "  0.00000000e+00+0.j -4.43834089e+00+0.j  0.00000000e+00+0.j\n",
      "  0.00000000e+00+0.j  0.00000000e+00+0.j  1.59742887e+00+0.j\n",
      "  0.00000000e+00+0.j  0.00000000e+00+0.j  0.00000000e+00+0.j\n",
      "  7.14641804e+00+0.j  0.00000000e+00+0.j  0.00000000e+00+0.j\n",
      "  0.00000000e+00+0.j -3.54828181e+00+0.j  0.00000000e+00+0.j\n",
      "  0.00000000e+00+0.j  0.00000000e+00+0.j -4.64905157e+00+0.j\n",
      "  0.00000000e+00+0.j  0.00000000e+00+0.j  0.00000000e+00+0.j\n",
      "  1.44507552e+01+0.j  0.00000000e+00+0.j  0.00000000e+00+0.j\n",
      "  0.00000000e+00+0.j -1.24416605e+01+0.j  0.00000000e+00+0.j\n",
      "  0.00000000e+00+0.j  0.00000000e+00+0.j  2.35265474e+00+0.j\n",
      "  0.00000000e+00+0.j  0.00000000e+00+0.j  0.00000000e+00+0.j\n",
      "  1.48127622e+01+0.j  0.00000000e+00+0.j  0.00000000e+00+0.j\n",
      "  0.00000000e+00+0.j  1.02365185e+01+0.j  0.00000000e+00+0.j\n",
      "  0.00000000e+00+0.j  0.00000000e+00+0.j -8.07054811e+00+0.j\n",
      "  0.00000000e+00+0.j  0.00000000e+00+0.j  0.00000000e+00+0.j\n",
      "  1.43285040e+01+0.j  0.00000000e+00+0.j  0.00000000e+00+0.j\n",
      "  0.00000000e+00+0.j  1.14170464e+01+0.j  0.00000000e+00+0.j\n",
      "  0.00000000e+00+0.j  0.00000000e+00+0.j -7.98007417e+00+0.j\n",
      "  0.00000000e+00+0.j  0.00000000e+00+0.j  0.00000000e+00+0.j\n",
      "  1.53575975e+00+0.j  0.00000000e+00+0.j  0.00000000e+00+0.j\n",
      "  0.00000000e+00+0.j -9.21136824e+00+0.j  0.00000000e+00+0.j\n",
      "  0.00000000e+00+0.j  0.00000000e+00+0.j  2.01327121e+01+0.j\n",
      "  0.00000000e+00+0.j  0.00000000e+00+0.j  0.00000000e+00+0.j\n",
      "  5.75324067e+00+0.j  0.00000000e+00+0.j  0.00000000e+00+0.j\n",
      "  0.00000000e+00+0.j  1.15440179e+01+0.j  0.00000000e+00+0.j\n",
      "  0.00000000e+00+0.j  0.00000000e+00+0.j -5.21077548e-01+0.j\n",
      "  0.00000000e+00+0.j  0.00000000e+00+0.j  0.00000000e+00+0.j\n",
      "  9.30452573e+00+0.j  0.00000000e+00+0.j  0.00000000e+00+0.j\n",
      "  0.00000000e+00+0.j  2.50520296e+01+0.j  0.00000000e+00+0.j\n",
      "  0.00000000e+00+0.j  0.00000000e+00+0.j  4.53675662e+01+0.j\n",
      "  0.00000000e+00+0.j  0.00000000e+00+0.j]\n"
     ]
    }
   ],
   "source": [
    "# Perform FFT on complex numbers\n",
    "fft_result = np.fft.fft(complex_numbers)\n",
    "\n",
    "print(fft_result)"
   ]
  },
  {
   "cell_type": "code",
   "execution_count": null,
   "id": "5152c2bf",
   "metadata": {},
   "outputs": [],
   "source": []
  },
  {
   "cell_type": "code",
   "execution_count": null,
   "id": "6b6844e3",
   "metadata": {},
   "outputs": [],
   "source": []
  }
 ],
 "metadata": {
  "kernelspec": {
   "display_name": "Python 3 (ipykernel)",
   "language": "python",
   "name": "python3"
  },
  "language_info": {
   "codemirror_mode": {
    "name": "ipython",
    "version": 3
   },
   "file_extension": ".py",
   "mimetype": "text/x-python",
   "name": "python",
   "nbconvert_exporter": "python",
   "pygments_lexer": "ipython3",
   "version": "3.9.12"
  }
 },
 "nbformat": 4,
 "nbformat_minor": 5
}
